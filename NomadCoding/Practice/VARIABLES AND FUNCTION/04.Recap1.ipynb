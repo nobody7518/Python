{
 "cells": [
  {
   "cell_type": "code",
   "execution_count": 6,
   "metadata": {},
   "outputs": [
    {
     "name": "stdout",
     "output_type": "stream",
     "text": [
      "Hello my name is nico\n",
      "and I'm 12 years old\n"
     ]
    }
   ],
   "source": [
    "my_name = \"nico\"\n",
    "age = 12\n",
    "dead = False\n",
    "print(f\"Hello my name is {my_name}\")\n",
    "print(f\"and I'm {age} years old\")"
   ]
  }
 ],
 "metadata": {
  "language_info": {
   "name": "python"
  }
 },
 "nbformat": 4,
 "nbformat_minor": 2
}
