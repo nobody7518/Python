{
 "cells": [
  {
   "cell_type": "code",
   "execution_count": 3,
   "metadata": {},
   "outputs": [
    {
     "name": "stdout",
     "output_type": "stream",
     "text": [
      "3500.0\n"
     ]
    }
   ],
   "source": [
    "def tax_calculator(money):\n",
    "    print(money * 0.35)\n",
    "\n",
    "tax_calculator(10000)"
   ]
  },
  {
   "cell_type": "code",
   "execution_count": 6,
   "metadata": {},
   "outputs": [
    {
     "name": "stdout",
     "output_type": "stream",
     "text": [
      "1 + 2 = 3\n",
      "1 - 2 = -1\n",
      "1 x 2 = 1\n",
      "1 / 2 = 0.5\n"
     ]
    }
   ],
   "source": [
    "#Calcurator\n",
    "def calcurator(a,b):\n",
    "    print(f\"{a} + {b} = {a+b}\")\n",
    "    print(f\"{a} - {b} = {a-b}\")\n",
    "    print(f\"{a} x {b} = {a**b}\")\n",
    "    print(f\"{a} / {b} = {a/b}\")\n",
    "\n",
    "calcurator(1,2)"
   ]
  },
  {
   "cell_type": "code",
   "execution_count": null,
   "metadata": {},
   "outputs": [],
   "source": []
  }
 ],
 "metadata": {
  "kernelspec": {
   "display_name": "Python 3",
   "language": "python",
   "name": "python3"
  },
  "language_info": {
   "codemirror_mode": {
    "name": "ipython",
    "version": 3
   },
   "file_extension": ".py",
   "mimetype": "text/x-python",
   "name": "python",
   "nbconvert_exporter": "python",
   "pygments_lexer": "ipython3",
   "version": "3.12.4"
  }
 },
 "nbformat": 4,
 "nbformat_minor": 2
}
