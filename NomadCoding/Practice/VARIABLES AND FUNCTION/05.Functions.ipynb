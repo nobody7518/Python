{
 "cells": [
  {
   "cell_type": "code",
   "execution_count": 5,
   "metadata": {},
   "outputs": [
    {
     "name": "stdout",
     "output_type": "stream",
     "text": [
      "hello how r u?\n",
      "Good bye\n"
     ]
    }
   ],
   "source": [
    "def say_hello():\n",
    "    print(\"hello how r u?\")\n",
    "    \n",
    "def sya_bye():\n",
    "    print(\"Good bye\")\n",
    "\n",
    "say_hello()\n",
    "sya_bye()\n"
   ]
  },
  {
   "cell_type": "code",
   "execution_count": 15,
   "metadata": {},
   "outputs": [
    {
     "name": "stdout",
     "output_type": "stream",
     "text": [
      "Champions League's winner ls Real Madrid\n"
     ]
    }
   ],
   "source": [
    "# Parameters\n",
    "def champions_league(winner):\n",
    "    print(f\"Champions League's winner ls {winner}\")\n",
    "\n",
    "\n",
    "champions_league(\"Real Madrid\")\n"
   ]
  },
  {
   "cell_type": "code",
   "execution_count": 16,
   "metadata": {},
   "outputs": [
    {
     "name": "stdout",
     "output_type": "stream",
     "text": [
      "hello Guys\n",
      "you are 26 years old, right?\n"
     ]
    }
   ],
   "source": [
    "# Multi Parameters\n",
    "def say_hello(user_name, user_age):\n",
    "    print(\"hello\", user_name)\n",
    "    print(f\"you are {user_age} years old, right?\")\n",
    "\n",
    "say_hello(\"Guys\",26)"
   ]
  },
  {
   "cell_type": "code",
   "execution_count": 22,
   "metadata": {},
   "outputs": [
    {
     "name": "stdout",
     "output_type": "stream",
     "text": [
      "Hello nico\n",
      "Hello anonymous\n"
     ]
    }
   ],
   "source": [
    "# Default Parameters\n",
    "def say_hello(user_name=\"anonymous\"):\n",
    "    print(\"Hello\", user_name)\n",
    "\n",
    "say_hello(\"nico\")\n",
    "say_hello()\n",
    "\n"
   ]
  },
  {
   "cell_type": "code",
   "execution_count": 31,
   "metadata": {},
   "outputs": [
    {
     "name": "stdout",
     "output_type": "stream",
     "text": [
      "thank you for paying 350000.0\n"
     ]
    }
   ],
   "source": [
    "# Return Value\n",
    "def tax_calc(money):\n",
    "    return money * 0.35 #return은 함수 바깥으로 값을 보낸다는 의미\n",
    "\n",
    "def pay_tax(tax):\n",
    "    print(\"thank you for paying\", tax)\n",
    "\n",
    "to_pay = tax_calc(1000000)\n",
    "pay_tax(to_pay)"
   ]
  },
  {
   "cell_type": "code",
   "execution_count": 33,
   "metadata": {},
   "outputs": [
    {
     "name": "stdout",
     "output_type": "stream",
     "text": [
      "Hello I'm nico, I have 12, My hair color ls blak\n"
     ]
    }
   ],
   "source": [
    "# f-string\n",
    "\n",
    "my_name = \"nico\"\n",
    "my_age = \"12\"\n",
    "my_hair_color = \"blak\"\n",
    "\n",
    "print(f\"Hello I'm {my_name}, I have {my_age}, My hair color ls {my_hair_color}\")"
   ]
  },
  {
   "cell_type": "code",
   "execution_count": 34,
   "metadata": {},
   "outputs": [
    {
     "name": "stdout",
     "output_type": "stream",
     "text": [
      "apple\n"
     ]
    }
   ],
   "source": [
    "# Return Recap\n",
    "\n",
    "def make_juice(fruit):\n",
    "    return f\"{fruit}\"\n",
    "\n",
    "def add_ice(juice):\n",
    "    return f\"{juice}\"\n",
    "\n",
    "def add_sugar(iced_juice):\n",
    "    return f\"{iced_juice}\"\n",
    "\n",
    "juice = make_juice(\"apple\")\n",
    "cold_juice = add_ice(juice)\n",
    "perfect_juice = add_sugar(cold_juice)\n",
    "\n",
    "print(perfect_juice)"
   ]
  },
  {
   "cell_type": "code",
   "execution_count": null,
   "metadata": {},
   "outputs": [],
   "source": []
  }
 ],
 "metadata": {
  "kernelspec": {
   "display_name": "Python 3",
   "language": "python",
   "name": "python3"
  },
  "language_info": {
   "codemirror_mode": {
    "name": "ipython",
    "version": 3
   },
   "file_extension": ".py",
   "mimetype": "text/x-python",
   "name": "python",
   "nbconvert_exporter": "python",
   "pygments_lexer": "ipython3",
   "version": "3.12.4"
  }
 },
 "nbformat": 4,
 "nbformat_minor": 2
}
